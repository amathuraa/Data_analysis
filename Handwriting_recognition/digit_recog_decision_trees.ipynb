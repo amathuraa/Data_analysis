{
 "cells": [
  {
   "cell_type": "markdown",
   "metadata": {},
   "source": [
    "## Training a decision tree\n",
    "\n",
    "`sklearn.datasets.load_digits` is a dataset of 8 by 8 images of numbers."
   ]
  },
  {
   "cell_type": "code",
   "execution_count": 72,
   "metadata": {},
   "outputs": [],
   "source": [
    "\n",
    "seed = 20190327\n",
    "import sklearn.datasets\n",
    "from sklearn.model_selection import train_test_split\n",
    "Load_digits = sklearn.datasets.load_digits()\n",
    "X_train, X_test, y_train, y_test = train_test_split(Load_digits.data,\n",
    "                                                    Load_digits.target, \n",
    "                                                    test_size=0.2, \n",
    "                                                    random_state=seed)"
   ]
  },
  {
   "cell_type": "markdown",
   "metadata": {},
   "source": [
    "### In this assignment, you are required to:\n",
    "\n",
    "1. Train a model and test its accuracy\n",
    "\n",
    "    ***Note***: Use `random_state=seed` as an argument of the model so as to get consistent results.\n",
    "    \n",
    "2. Tune the parameter to get better performance \n",
    "\n",
    " ***Note***: In order to get full marks, you need to show your work how you choose the best perameters, rather than just showing what the best parameter is."
   ]
  },
  {
   "cell_type": "code",
   "execution_count": 82,
   "metadata": {},
   "outputs": [],
   "source": [
    "\n",
    "from sklearn import tree\n",
    "# Your code here\n",
    "clf = tree.DecisionTreeClassifier(random_state=seed)"
   ]
  },
  {
   "cell_type": "code",
   "execution_count": 83,
   "metadata": {},
   "outputs": [],
   "source": [
    "\n",
    "clf = clf.fit(X_train, y_train)\n",
    "# Your code here"
   ]
  },
  {
   "cell_type": "code",
   "execution_count": 84,
   "metadata": {},
   "outputs": [
    {
     "name": "stdout",
     "output_type": "stream",
     "text": [
      "[[33  0  0  0  0  0  0  0  0  0]\n",
      " [ 0 36  1  1  0  0  1  1  2  2]\n",
      " [ 0  1 30  3  0  0  0  0  2  0]\n",
      " [ 0  1  0 28  0  0  0  0  5  1]\n",
      " [ 1  2  0  0 34  1  1  4  0  1]\n",
      " [ 0  0  0  0  0 30  1  0  0  3]\n",
      " [ 0  0  0  1  1  0 23  0  0  0]\n",
      " [ 0  0  0  1  0  0  1 37  1  0]\n",
      " [ 1  0  2  1  0  0  0  0 26  2]\n",
      " [ 0  0  0  0  0  1  0  3  3 30]]\n",
      "0.8527777777777777\n"
     ]
    }
   ],
   "source": [
    "\n",
    "y_predict = clf.predict(X_test)\n",
    "from sklearn.metrics import accuracy_score \n",
    "# You can use accuracy_score to get accuracy of you model. You may also compute the score manually.\n",
    "# Your code here\n",
    "\n",
    "from sklearn.metrics import confusion_matrix\n",
    "print(confusion_matrix(y_predict, y_test))\n",
    "print(accuracy_score(y_predict,y_test))"
   ]
  },
  {
   "cell_type": "code",
   "execution_count": 94,
   "metadata": {},
   "outputs": [
    {
     "data": {
      "text/plain": [
       "(1437, 64)"
      ]
     },
     "execution_count": 94,
     "metadata": {},
     "output_type": "execute_result"
    }
   ],
   "source": [
    "X_train.shape"
   ]
  },
  {
   "cell_type": "markdown",
   "metadata": {},
   "source": [
    "There are several parameters to tune in a decision tree model, (e.g., `max_depth`, `max_features`, `max_leaf_nodes`, `min_samples_leaf`, `min_samples_split`). Try to tune your model by choosing the values for 1 ~ 3 parameters using cross validation. For example:"
   ]
  },
  {
   "cell_type": "code",
   "execution_count": 102,
   "metadata": {},
   "outputs": [
    {
     "name": "stdout",
     "output_type": "stream",
     "text": [
      "13\n",
      "39\n",
      "0.9\n",
      "[[33  0  0  0  0  0  0  0  0  0]\n",
      " [ 0 36  1  2  1  0  1  1  2  0]\n",
      " [ 0  1 32  1  0  1  1  0  2  1]\n",
      " [ 0  0  0 31  0  0  0  0  2  2]\n",
      " [ 1  0  0  0 31  0  0  0  0  0]\n",
      " [ 0  0  0  0  0 30  0  1  1  0]\n",
      " [ 1  0  0  0  3  0 25  1  2  0]\n",
      " [ 0  1  0  1  0  0  0 40  0  0]\n",
      " [ 0  1  0  0  0  1  0  1 30  0]\n",
      " [ 0  1  0  0  0  0  0  1  0 36]]\n"
     ]
    }
   ],
   "source": [
    "score=0\n",
    "\n",
    "for x in range(1,30):\n",
    "    for i in range(1,64):\n",
    "        cl = tree.DecisionTreeClassifier(max_depth=x,max_features=i,random_state=seed)\n",
    "        cl = cl.fit(X_train, y_train)\n",
    "        y_predict = cl.predict(X_test)\n",
    "        #print(confusion_matrix(y_predict, y_test))\n",
    "        temp_Score=accuracy_score(y_predict,y_test)\n",
    "        #print(str(x)+'--'+str(i)+'---'+str(temp_Score))\n",
    "        if temp_Score>score:\n",
    "            conf=confusion_matrix(y_predict, y_test)\n",
    "            score=temp_Score\n",
    "            Best_depth=x\n",
    "            Best_no_features=i\n",
    "        \n",
    "print(Best_depth)\n",
    "print(Best_no_features)\n",
    "print(score)\n",
    "print(conf)\n",
    "# Your code here"
   ]
  },
  {
   "cell_type": "code",
   "execution_count": 91,
   "metadata": {},
   "outputs": [],
   "source": [
    "# 4.1 You may choose more parameters to tune\n",
    "#Max_Features\n",
    "# Your code here"
   ]
  },
  {
   "cell_type": "code",
   "execution_count": 7,
   "metadata": {},
   "outputs": [],
   "source": [
    "# 5. Show your best result\n",
    "\n",
    "# Your code here"
   ]
  }
 ],
 "metadata": {
  "kernelspec": {
   "display_name": "Python 3",
   "language": "python",
   "name": "python3"
  },
  "language_info": {
   "codemirror_mode": {
    "name": "ipython",
    "version": 3
   },
   "file_extension": ".py",
   "mimetype": "text/x-python",
   "name": "python",
   "nbconvert_exporter": "python",
   "pygments_lexer": "ipython3",
   "version": "3.8.8"
  }
 },
 "nbformat": 4,
 "nbformat_minor": 2
}
