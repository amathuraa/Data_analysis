{
 "cells": [
  {
   "cell_type": "code",
   "execution_count": 1,
   "metadata": {},
   "outputs": [
    {
     "data": {
      "text/html": [
       "<div>\n",
       "<style scoped>\n",
       "    .dataframe tbody tr th:only-of-type {\n",
       "        vertical-align: middle;\n",
       "    }\n",
       "\n",
       "    .dataframe tbody tr th {\n",
       "        vertical-align: top;\n",
       "    }\n",
       "\n",
       "    .dataframe thead th {\n",
       "        text-align: right;\n",
       "    }\n",
       "</style>\n",
       "<table border=\"1\" class=\"dataframe\">\n",
       "  <thead>\n",
       "    <tr style=\"text-align: right;\">\n",
       "      <th></th>\n",
       "      <th>baby</th>\n",
       "      <th>one</th>\n",
       "      <th>great</th>\n",
       "      <th>love</th>\n",
       "      <th>use</th>\n",
       "      <th>would</th>\n",
       "      <th>like</th>\n",
       "      <th>easy</th>\n",
       "      <th>little</th>\n",
       "      <th>seat</th>\n",
       "      <th>...</th>\n",
       "      <th>picture</th>\n",
       "      <th>completely</th>\n",
       "      <th>wish</th>\n",
       "      <th>buying</th>\n",
       "      <th>babies</th>\n",
       "      <th>won</th>\n",
       "      <th>tub</th>\n",
       "      <th>almost</th>\n",
       "      <th>either</th>\n",
       "      <th>sentiment</th>\n",
       "    </tr>\n",
       "  </thead>\n",
       "  <tbody>\n",
       "    <tr>\n",
       "      <th>0</th>\n",
       "      <td>0</td>\n",
       "      <td>0</td>\n",
       "      <td>1</td>\n",
       "      <td>0</td>\n",
       "      <td>0</td>\n",
       "      <td>0</td>\n",
       "      <td>0</td>\n",
       "      <td>1</td>\n",
       "      <td>0</td>\n",
       "      <td>0</td>\n",
       "      <td>...</td>\n",
       "      <td>0</td>\n",
       "      <td>0</td>\n",
       "      <td>0</td>\n",
       "      <td>0</td>\n",
       "      <td>0</td>\n",
       "      <td>0</td>\n",
       "      <td>0</td>\n",
       "      <td>0</td>\n",
       "      <td>0</td>\n",
       "      <td>1</td>\n",
       "    </tr>\n",
       "    <tr>\n",
       "      <th>1</th>\n",
       "      <td>0</td>\n",
       "      <td>0</td>\n",
       "      <td>0</td>\n",
       "      <td>0</td>\n",
       "      <td>0</td>\n",
       "      <td>0</td>\n",
       "      <td>0</td>\n",
       "      <td>0</td>\n",
       "      <td>0</td>\n",
       "      <td>0</td>\n",
       "      <td>...</td>\n",
       "      <td>0</td>\n",
       "      <td>0</td>\n",
       "      <td>0</td>\n",
       "      <td>0</td>\n",
       "      <td>0</td>\n",
       "      <td>0</td>\n",
       "      <td>0</td>\n",
       "      <td>0</td>\n",
       "      <td>0</td>\n",
       "      <td>1</td>\n",
       "    </tr>\n",
       "    <tr>\n",
       "      <th>2</th>\n",
       "      <td>1</td>\n",
       "      <td>0</td>\n",
       "      <td>0</td>\n",
       "      <td>0</td>\n",
       "      <td>0</td>\n",
       "      <td>0</td>\n",
       "      <td>0</td>\n",
       "      <td>0</td>\n",
       "      <td>0</td>\n",
       "      <td>0</td>\n",
       "      <td>...</td>\n",
       "      <td>0</td>\n",
       "      <td>0</td>\n",
       "      <td>0</td>\n",
       "      <td>0</td>\n",
       "      <td>0</td>\n",
       "      <td>0</td>\n",
       "      <td>0</td>\n",
       "      <td>0</td>\n",
       "      <td>0</td>\n",
       "      <td>1</td>\n",
       "    </tr>\n",
       "    <tr>\n",
       "      <th>3</th>\n",
       "      <td>0</td>\n",
       "      <td>0</td>\n",
       "      <td>0</td>\n",
       "      <td>0</td>\n",
       "      <td>0</td>\n",
       "      <td>0</td>\n",
       "      <td>1</td>\n",
       "      <td>0</td>\n",
       "      <td>0</td>\n",
       "      <td>0</td>\n",
       "      <td>...</td>\n",
       "      <td>0</td>\n",
       "      <td>0</td>\n",
       "      <td>0</td>\n",
       "      <td>0</td>\n",
       "      <td>0</td>\n",
       "      <td>0</td>\n",
       "      <td>0</td>\n",
       "      <td>0</td>\n",
       "      <td>0</td>\n",
       "      <td>1</td>\n",
       "    </tr>\n",
       "    <tr>\n",
       "      <th>4</th>\n",
       "      <td>0</td>\n",
       "      <td>0</td>\n",
       "      <td>1</td>\n",
       "      <td>0</td>\n",
       "      <td>0</td>\n",
       "      <td>0</td>\n",
       "      <td>0</td>\n",
       "      <td>0</td>\n",
       "      <td>0</td>\n",
       "      <td>0</td>\n",
       "      <td>...</td>\n",
       "      <td>0</td>\n",
       "      <td>0</td>\n",
       "      <td>0</td>\n",
       "      <td>0</td>\n",
       "      <td>1</td>\n",
       "      <td>0</td>\n",
       "      <td>0</td>\n",
       "      <td>0</td>\n",
       "      <td>0</td>\n",
       "      <td>1</td>\n",
       "    </tr>\n",
       "  </tbody>\n",
       "</table>\n",
       "<p>5 rows × 194 columns</p>\n",
       "</div>"
      ],
      "text/plain": [
       "   baby  one  great  love  use  would  like  easy  little  seat  ...  picture  \\\n",
       "0     0    0      1     0    0      0     0     1       0     0  ...        0   \n",
       "1     0    0      0     0    0      0     0     0       0     0  ...        0   \n",
       "2     1    0      0     0    0      0     0     0       0     0  ...        0   \n",
       "3     0    0      0     0    0      0     1     0       0     0  ...        0   \n",
       "4     0    0      1     0    0      0     0     0       0     0  ...        0   \n",
       "\n",
       "   completely  wish  buying  babies  won  tub  almost  either  sentiment  \n",
       "0           0     0       0       0    0    0       0       0          1  \n",
       "1           0     0       0       0    0    0       0       0          1  \n",
       "2           0     0       0       0    0    0       0       0          1  \n",
       "3           0     0       0       0    0    0       0       0          1  \n",
       "4           0     0       0       1    0    0       0       0          1  \n",
       "\n",
       "[5 rows x 194 columns]"
      ]
     },
     "execution_count": 1,
     "metadata": {},
     "output_type": "execute_result"
    }
   ],
   "source": [
    "import pandas as pd\n",
    "data = pd.read_csv('sentiment_classification_processed_data.csv')\n",
    "data.head()"
   ]
  },
  {
   "cell_type": "markdown",
   "metadata": {},
   "source": [
    "## Split data\n",
    "\n",
    "+ Split dataset into training set and testing set using an 80/20 split."
   ]
  },
  {
   "cell_type": "code",
   "execution_count": 8,
   "metadata": {},
   "outputs": [],
   "source": [
    "from sklearn.model_selection import train_test_split\n",
    "\n",
    "# define input features\n",
    "features = data[data.columns.drop('sentiment')]\n",
    "\n",
    "# define output feature (label)\n",
    "label = data['sentiment']\n",
    "\n",
    "# split data into training set and testing set\n",
    "train_X, test_X, train_Y, test_Y = train_test_split(features, label, test_size=0.3, random_state=0)"
   ]
  },
  {
   "cell_type": "markdown",
   "metadata": {},
   "source": [
    "## Logistic regression model\n",
    "\n",
    "+ Fit a logistic regression model by training set.\n",
    "+ Calculate the accuracy on testing set."
   ]
  },
  {
   "cell_type": "code",
   "execution_count": 17,
   "metadata": {},
   "outputs": [
    {
     "name": "stdout",
     "output_type": "stream",
     "text": [
      "Logistic Regression accuracy on the training set: 0.79\n",
      "Logistic Regression accuracy on the testing set: 0.79\n"
     ]
    }
   ],
   "source": [
    "from sklearn import linear_model\n",
    "\n",
    "# initialize a logistic regression model\n",
    "logistic = linear_model.LogisticRegression()\n",
    "\n",
    "# fit the logistic regression model\n",
    "logistic.fit(train_X, train_Y)\n",
    "\n",
    "# calculate the accuracy on testing set by function linear_model.LogisticRegression.score(test_X, test_Y) \n",
    "print ('Logistic Regression accuracy on the training set: %.2f' %logistic.score(train_X, train_Y) )\n",
    "print ('Logistic Regression accuracy on the testing set: %.2f' %logistic.score(test_X, test_Y) )"
   ]
  },
  {
   "cell_type": "code",
   "execution_count": 19,
   "metadata": {},
   "outputs": [
    {
     "name": "stdout",
     "output_type": "stream",
     "text": [
      "AdaBoost accuracy on the training set: 0.65\n",
      "AdaBoost accuracy on the testing set : 0.66\n"
     ]
    }
   ],
   "source": [
    "from sklearn.ensemble import AdaBoostClassifier\n",
    "from sklearn.tree import DecisionTreeClassifier\n",
    "\n",
    "# initialize a AdaBoost model, set random_state=1, n_estimators=5\n",
    "adaboost = AdaBoostClassifier(n_estimators=5, random_state=1)\n",
    "\n",
    "# fit the AdaBoost model\n",
    "adaboost.fit(train_X, train_Y)\n",
    "\n",
    "# calculate the accuracy on training set by function sklearn.ensemble.AdaBoostClassifier.score(train_X, train_Y) \n",
    "print ('AdaBoost accuracy on the training set: %.2f' % adaboost.score(train_X,train_Y))\n",
    "\n",
    "# calculate the accuracy on testing set by function sklearn.ensemble.AdaBoostClassifier.score(test_X, test_Y) \n",
    "print ('AdaBoost accuracy on the testing set : %.2f' % adaboost.score(test_X,test_Y))"
   ]
  },
  {
   "cell_type": "code",
   "execution_count": 20,
   "metadata": {},
   "outputs": [
    {
     "name": "stdout",
     "output_type": "stream",
     "text": [
      "Random Forest accuracy on the training set: 0.97\n",
      "Random Forest accuracy on the testing set : 0.73\n"
     ]
    }
   ],
   "source": [
    "from sklearn.ensemble import RandomForestClassifier\n",
    "\n",
    "# initialize a Random Forest model, set random_state=1, n_estimators=5\n",
    "random_forest = RandomForestClassifier(n_estimators=5, random_state=1)\n",
    "\n",
    "# fit the Random Forest model\n",
    "random_forest.fit(train_X, train_Y)\n",
    "\n",
    "# calculate the accuracy on training set by function sklearn.ensemble.RandomForestClassifier.score(train_X, train_Y) \n",
    "print ('Random Forest accuracy on the training set: %.2f' % random_forest.score(train_X,train_Y))\n",
    "\n",
    "# calculate the accuracy on testing set by function sklearn.ensemble.RandomForestClassifier.score(train_X, train_Y) \n",
    "print ('Random Forest accuracy on the testing set : %.2f' % random_forest.score(test_X,test_Y))"
   ]
  },
  {
   "cell_type": "markdown",
   "metadata": {},
   "source": [
    "## Crossvalidation for AdaBoost\n"
   ]
  },
  {
   "cell_type": "code",
   "execution_count": 23,
   "metadata": {},
   "outputs": [
    {
     "name": "stdout",
     "output_type": "stream",
     "text": [
      "AdaBoost max_depth=2,  n_estimators=50,  accuracy on training set:  0.79\n",
      "AdaBoost max_depth=5,  n_estimators=50,  accuracy on training set:  0.84\n",
      "AdaBoost max_depth=10, n_estimators=50,  accuracy on training set:  0.95\n",
      "AdaBoost max_depth=20, n_estimators=50,  accuracy on training set:  0.99\n",
      "AdaBoost max_depth=2,  n_estimators=50,  accuracy on testing set:  0.78\n",
      "AdaBoost max_depth=5,  n_estimators=50,  accuracy on testing set:  0.76\n",
      "AdaBoost max_depth=10, n_estimators=50,  accuracy on testing set:  0.70\n",
      "AdaBoost max_depth=20, n_estimators=50,  accuracy on testing set:  0.71\n"
     ]
    }
   ],
   "source": [
    "# initialize and fit a AdaBoost model, set max_depth=2, random_state=1, n_estimators=50\n",
    "adaboost_2 = AdaBoostClassifier(n_estimators=50, random_state=1, base_estimator = DecisionTreeClassifier(max_depth=2))\n",
    "adaboost_2.fit(train_X, train_Y)\n",
    "\n",
    "# initialize a AdaBoost model, set max_depth=5, random_state=1, n_estimators=50\n",
    "adaboost_5 = AdaBoostClassifier(n_estimators=50, random_state=1, base_estimator = DecisionTreeClassifier(max_depth=5))\n",
    "adaboost_5.fit(train_X, train_Y)\n",
    "\n",
    "# initialize a AdaBoost model, set max_depth=10, random_state=1, n_estimators=50\n",
    "adaboost_10 = AdaBoostClassifier(n_estimators=50, random_state=1, base_estimator = DecisionTreeClassifier(max_depth=10))\n",
    "adaboost_10.fit(train_X, train_Y)\n",
    "\n",
    "# initialize a AdaBoost model, set max_depth=20, random_state=1, n_estimators=50\n",
    "adaboost_20 = AdaBoostClassifier(n_estimators=50, random_state=1, base_estimator = DecisionTreeClassifier(max_depth=20))\n",
    "adaboost_20.fit(train_X, train_Y)\n",
    "\n",
    "# calculate the accuracy on training set by function sklearn.ensemble.AdaBoostClassifier.score(train_X, train_Y) \n",
    "print ('AdaBoost max_depth=2,  n_estimators=50,  accuracy on training set:  %.2f' % adaboost_2.score(train_X,train_Y))\n",
    "print ('AdaBoost max_depth=5,  n_estimators=50,  accuracy on training set:  %.2f' % adaboost_5.score(train_X,train_Y))\n",
    "print ('AdaBoost max_depth=10, n_estimators=50,  accuracy on training set:  %.2f' % adaboost_10.score(train_X,train_Y))\n",
    "print ('AdaBoost max_depth=20, n_estimators=50,  accuracy on training set:  %.2f' % adaboost_20.score(train_X,train_Y))\n",
    "\n",
    "# calculate the accuracy on testing set by function sklearn.ensemble.AdaBoostClassifier.score(train_X, train_Y) \n",
    "print ('AdaBoost max_depth=2,  n_estimators=50,  accuracy on testing set:  %.2f' % adaboost_2.score(test_X,test_Y))\n",
    "print ('AdaBoost max_depth=5,  n_estimators=50,  accuracy on testing set:  %.2f' % adaboost_5.score(test_X,test_Y))\n",
    "print ('AdaBoost max_depth=10, n_estimators=50,  accuracy on testing set:  %.2f' % adaboost_10.score(test_X,test_Y))\n",
    "print ('AdaBoost max_depth=20, n_estimators=50,  accuracy on testing set:  %.2f' % adaboost_20.score(test_X,test_Y))"
   ]
  },
  {
   "cell_type": "markdown",
   "metadata": {},
   "source": [
    "## Crossvalidation for Random Forest\n",
    "\n",
    "+ Generate 4 different Random Forest models by setting n_estimators=5, 10, 50 and 100. Fix random_state=1 and max_depth to be default value for these 4 models.\n",
    "+ Calculate the accuracy on training set and testing set for all these 4 models to check whether the model is overfitting."
   ]
  },
  {
   "cell_type": "code",
   "execution_count": 24,
   "metadata": {},
   "outputs": [
    {
     "name": "stdout",
     "output_type": "stream",
     "text": [
      "RF n_estimators=5,   accuracy on training set:  0.97\n",
      "RF n_estimators=10,  accuracy on training set:  0.98\n",
      "RF n_estimators=50,  accuracy on training set:  0.99\n",
      "RF n_estimators=100, accuracy on training set:  0.99\n",
      "RF n_estimators=5,   accuracy on testing set:  0.73\n",
      "RF n_estimators=10,  accuracy on testing set:  0.75\n",
      "RF n_estimators=50,  accuracy on testing set:  0.78\n",
      "RF n_estimators=100, accuracy on testing set:  0.78\n"
     ]
    }
   ],
   "source": [
    "# initialize and fit a Random Forest model, set n_estimators=5, random_state=1\n",
    "random_forest_5 = RandomForestClassifier(n_estimators=5, random_state=1)\n",
    "random_forest_5.fit(train_X, train_Y)\n",
    "\n",
    "# initialize and fit a Random Forest model, set n_estimators=10, random_state=1\n",
    "random_forest_10 = RandomForestClassifier(n_estimators=10, random_state=1)\n",
    "random_forest_10.fit(train_X, train_Y)\n",
    "\n",
    "# initialize and fit a Random Forest model, set n_estimators=50, random_state=1\n",
    "random_forest_50 = RandomForestClassifier(n_estimators=50, random_state=1)\n",
    "random_forest_50.fit(train_X, train_Y)\n",
    "\n",
    "# initialize and fit a Random Forest model, set n_estimators=100, random_state=1\n",
    "random_forest_100 = RandomForestClassifier(n_estimators=100, random_state=1)\n",
    "random_forest_100.fit(train_X, train_Y)\n",
    "\n",
    "# calculate the accuracy on training set by function sklearn.ensemble.RandomForestClassifier.score(train_X, train_Y) \n",
    "print ('RF n_estimators=5,   accuracy on training set:  %.2f' %random_forest_5.score(train_X,train_Y) )\n",
    "print ('RF n_estimators=10,  accuracy on training set:  %.2f' % random_forest_10.score(train_X,train_Y))\n",
    "print ('RF n_estimators=50,  accuracy on training set:  %.2f' % random_forest_50.score(train_X,train_Y))\n",
    "print ('RF n_estimators=100, accuracy on training set:  %.2f' % random_forest_100.score(train_X,train_Y))\n",
    "\n",
    "# calculate the accuracy on testing set by function sklearn.ensemble.RandomForestClassifier.score(train_X, train_Y) \n",
    "print ('RF n_estimators=5,   accuracy on testing set:  %.2f' % random_forest_5.score(test_X,test_Y))\n",
    "print ('RF n_estimators=10,  accuracy on testing set:  %.2f' % random_forest_10.score(test_X,test_Y))\n",
    "print ('RF n_estimators=50,  accuracy on testing set:  %.2f' % random_forest_50.score(test_X,test_Y))\n",
    "print ('RF n_estimators=100, accuracy on testing set:  %.2f' % random_forest_100.score(test_X,test_Y))"
   ]
  },
  {
   "cell_type": "code",
   "execution_count": null,
   "metadata": {},
   "outputs": [],
   "source": []
  }
 ],
 "metadata": {
  "kernelspec": {
   "display_name": "Python 3",
   "language": "python",
   "name": "python3"
  },
  "language_info": {
   "codemirror_mode": {
    "name": "ipython",
    "version": 3
   },
   "file_extension": ".py",
   "mimetype": "text/x-python",
   "name": "python",
   "nbconvert_exporter": "python",
   "pygments_lexer": "ipython3",
   "version": "3.8.8"
  }
 },
 "nbformat": 4,
 "nbformat_minor": 2
}
