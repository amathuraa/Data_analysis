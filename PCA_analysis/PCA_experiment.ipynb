{
 "cells": [
  {
   "cell_type": "code",
   "execution_count": 16,
   "metadata": {},
   "outputs": [],
   "source": [
    "%matplotlib inline\n",
    "import numpy as np\n",
    "import matplotlib.pyplot as plt\n",
    "import seaborn as sns; sns.set()\n",
    "\n",
    "from sklearn.datasets import load_digits\n",
    "from sklearn.decomposition import PCA\n",
    "from sklearn.cluster import k_means\n",
    "from sklearn.metrics import confusion_matrix\n",
    "\n",
    "digits = load_digits()\n",
    "data = digits.data\n",
    "labels = digits.target"
   ]
  },
  {
   "cell_type": "code",
   "execution_count": 17,
   "metadata": {},
   "outputs": [
    {
     "data": {
      "text/plain": [
       "PCA()"
      ]
     },
     "execution_count": 17,
     "metadata": {},
     "output_type": "execute_result"
    }
   ],
   "source": [
    "pca=PCA()\n",
    "pca.fit(data)"
   ]
  },
  {
   "cell_type": "code",
   "execution_count": 18,
   "metadata": {},
   "outputs": [
    {
     "name": "stdout",
     "output_type": "stream",
     "text": [
      "[0.14890594 0.28509365 0.40303959 0.48713938 0.54496353 0.59413263\n",
      " 0.6372925  0.67390623 0.70743871 0.73822677 0.76195018 0.78467714\n",
      " 0.80289578 0.82063433 0.83530534 0.84940249 0.86258838 0.87506976\n",
      " 0.88524694 0.89430312 0.9031985  0.91116973 0.91884467 0.9260737\n",
      " 0.93303259 0.9389934  0.94474955 0.94990113 0.95479652 0.9590854\n",
      " 0.96282146 0.96635421 0.96972105 0.97300135 0.97608455 0.97902234\n",
      " 0.98158823 0.98386565 0.98608843 0.98820273 0.99010182 0.99168835\n",
      " 0.99319995 0.99460574 0.99577196 0.99684689 0.99781094 0.99858557\n",
      " 0.99914278 0.99954711 0.99975703 0.99983951 0.99989203 0.99994255\n",
      " 0.99997555 0.99998798 0.99999503 0.99999804 0.99999911 0.99999966\n",
      " 1.         1.         1.         1.        ]\n"
     ]
    },
    {
     "data": {
      "image/png": "[encoded data removed]",
      "text/plain": [
       "<Figure size 432x288 with 1 Axes>"
      ]
     },
     "metadata": {},
     "output_type": "display_data"
    }
   ],
   "source": [
    "cumu_pve=np.cumsum(pca.explained_variance_ratio_)\n",
    "plt.plot(cumu_pve)\n",
    "print(cumu_pve)\n",
    "#at about n=16 we reach 85% explained variance "
   ]
  },
  {
   "cell_type": "code",
   "execution_count": 24,
   "metadata": {},
   "outputs": [
    {
     "name": "stdout",
     "output_type": "stream",
     "text": [
      "[[  0   0   0 177   0   0   0   0   1   0]\n",
      " [ 99   1   1   0  55   2   0   0   0  24]\n",
      " [  8  12   0   1   2   0   2   3   0 149]\n",
      " [  7 154   2   0   0   0  12   7   0   1]\n",
      " [  3   0   0   0   7   0   0   9 162   0]\n",
      " [  0   2 136   0   0   1  41   0   2   0]\n",
      " [  2   0   0   1   1 177   0   0   0   0]\n",
      " [  2   0   5   0   2   0   0 170   0   0]\n",
      " [100   3   7   0   6   2  48   4   0   4]\n",
      " [  1   8   7   0  20   0 137   7   0   0]]\n"
     ]
    }
   ],
   "source": [
    "from sklearn.cluster import KMeans\n",
    "n=16\n",
    "pca = PCA(n_components=n)\n",
    "new_features = pca.fit_transform(data)\n",
    "\n",
    "# Perform clustering by K-means\n",
    "centroid, labels, inertia = k_means(new_features, n_clusters=10, random_state=0)\n",
    "\n",
    "# Print the confusion matrix\n",
    "print(confusion_matrix(digits.target, labels))"
   ]
  },
  {
   "cell_type": "code",
   "execution_count": null,
   "metadata": {},
   "outputs": [],
   "source": []
  }
 ],
 "metadata": {
  "kernelspec": {
   "display_name": "Python 3",
   "language": "python",
   "name": "python3"
  },
  "language_info": {
   "codemirror_mode": {
    "name": "ipython",
    "version": 3
   },
   "file_extension": ".py",
   "mimetype": "text/x-python",
   "name": "python",
   "nbconvert_exporter": "python",
   "pygments_lexer": "ipython3",
   "version": "3.8.8"
  }
 },
 "nbformat": 4,
 "nbformat_minor": 2
}
